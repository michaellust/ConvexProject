{
 "cells": [
  {
   "cell_type": "code",
   "execution_count": 875,
   "id": "64f04f3f",
   "metadata": {},
   "outputs": [],
   "source": [
    "#https://www.cvxpy.org/\n",
    "import random \n",
    "import cvxpy as cp\n",
    "import numpy as np\n",
    "import pandas as pd\n",
    "\n",
    "#Data Visualization\n",
    "import matplotlib.pyplot as plt\n",
    "import seaborn as sns"
   ]
  },
  {
   "cell_type": "code",
   "execution_count": 876,
   "id": "08fb0e4f",
   "metadata": {},
   "outputs": [],
   "source": [
    "Convex_data = pd.DataFrame(pd.read_csv('Convex_Project_-_5G_Supplemental_Data.csv'))"
   ]
  },
  {
   "cell_type": "code",
   "execution_count": 877,
   "id": "ff071dc9",
   "metadata": {},
   "outputs": [],
   "source": [
    "M_C = len(Convex_data)"
   ]
  },
  {
   "cell_type": "code",
   "execution_count": 878,
   "id": "f4a868aa",
   "metadata": {},
   "outputs": [
    {
     "data": {
      "text/html": [
       "<div>\n",
       "<style scoped>\n",
       "    .dataframe tbody tr th:only-of-type {\n",
       "        vertical-align: middle;\n",
       "    }\n",
       "\n",
       "    .dataframe tbody tr th {\n",
       "        vertical-align: top;\n",
       "    }\n",
       "\n",
       "    .dataframe thead th {\n",
       "        text-align: right;\n",
       "    }\n",
       "</style>\n",
       "<table border=\"1\" class=\"dataframe\">\n",
       "  <thead>\n",
       "    <tr style=\"text-align: right;\">\n",
       "      <th></th>\n",
       "      <th>Time (Seconds)</th>\n",
       "      <th>Delay (ms)</th>\n",
       "      <th>5G Network Usage (Allocated Bandwidth)</th>\n",
       "    </tr>\n",
       "  </thead>\n",
       "  <tbody>\n",
       "    <tr>\n",
       "      <th>count</th>\n",
       "      <td>21.000000</td>\n",
       "      <td>21.000000</td>\n",
       "      <td>21.000000</td>\n",
       "    </tr>\n",
       "    <tr>\n",
       "      <th>mean</th>\n",
       "      <td>50.000000</td>\n",
       "      <td>0.400952</td>\n",
       "      <td>7.507143</td>\n",
       "    </tr>\n",
       "    <tr>\n",
       "      <th>std</th>\n",
       "      <td>31.024184</td>\n",
       "      <td>0.201393</td>\n",
       "      <td>4.724518</td>\n",
       "    </tr>\n",
       "    <tr>\n",
       "      <th>min</th>\n",
       "      <td>0.000000</td>\n",
       "      <td>0.000000</td>\n",
       "      <td>0.250000</td>\n",
       "    </tr>\n",
       "    <tr>\n",
       "      <th>25%</th>\n",
       "      <td>25.000000</td>\n",
       "      <td>0.280000</td>\n",
       "      <td>3.100000</td>\n",
       "    </tr>\n",
       "    <tr>\n",
       "      <th>50%</th>\n",
       "      <td>50.000000</td>\n",
       "      <td>0.450000</td>\n",
       "      <td>8.400000</td>\n",
       "    </tr>\n",
       "    <tr>\n",
       "      <th>75%</th>\n",
       "      <td>75.000000</td>\n",
       "      <td>0.570000</td>\n",
       "      <td>11.300000</td>\n",
       "    </tr>\n",
       "    <tr>\n",
       "      <th>max</th>\n",
       "      <td>100.000000</td>\n",
       "      <td>0.650000</td>\n",
       "      <td>14.700000</td>\n",
       "    </tr>\n",
       "  </tbody>\n",
       "</table>\n",
       "</div>"
      ],
      "text/plain": [
       "       Time (Seconds)  Delay (ms)  5G Network Usage (Allocated Bandwidth)\n",
       "count       21.000000   21.000000                               21.000000\n",
       "mean        50.000000    0.400952                                7.507143\n",
       "std         31.024184    0.201393                                4.724518\n",
       "min          0.000000    0.000000                                0.250000\n",
       "25%         25.000000    0.280000                                3.100000\n",
       "50%         50.000000    0.450000                                8.400000\n",
       "75%         75.000000    0.570000                               11.300000\n",
       "max        100.000000    0.650000                               14.700000"
      ]
     },
     "execution_count": 878,
     "metadata": {},
     "output_type": "execute_result"
    }
   ],
   "source": [
    "Convex_data.describe()"
   ]
  },
  {
   "cell_type": "code",
   "execution_count": 879,
   "id": "4391d81b",
   "metadata": {},
   "outputs": [
    {
     "data": {
      "text/plain": [
       "(14, 3)"
      ]
     },
     "execution_count": 879,
     "metadata": {},
     "output_type": "execute_result"
    }
   ],
   "source": [
    "#Splitting the Data into Training and Testing Sets\n",
    "from sklearn.model_selection import train_test_split\n",
    "\n",
    "# We specify this so that the train and test data set always have the same rows,\n",
    "np.random.seed(0)\n",
    "df_train,df_test = train_test_split(Convex_data, train_size = 0.7, test_size = 0.3, random_state = 1)\n",
    "df_train.shape"
   ]
  },
  {
   "cell_type": "code",
   "execution_count": 880,
   "id": "6f6d73d4",
   "metadata": {},
   "outputs": [
    {
     "data": {
      "text/plain": [
       "(7, 3)"
      ]
     },
     "execution_count": 880,
     "metadata": {},
     "output_type": "execute_result"
    }
   ],
   "source": [
    "df_test.shape"
   ]
  },
  {
   "cell_type": "code",
   "execution_count": 881,
   "id": "956abf1f",
   "metadata": {},
   "outputs": [
    {
     "data": {
      "text/html": [
       "<div>\n",
       "<style scoped>\n",
       "    .dataframe tbody tr th:only-of-type {\n",
       "        vertical-align: middle;\n",
       "    }\n",
       "\n",
       "    .dataframe tbody tr th {\n",
       "        vertical-align: top;\n",
       "    }\n",
       "\n",
       "    .dataframe thead th {\n",
       "        text-align: right;\n",
       "    }\n",
       "</style>\n",
       "<table border=\"1\" class=\"dataframe\">\n",
       "  <thead>\n",
       "    <tr style=\"text-align: right;\">\n",
       "      <th></th>\n",
       "      <th>Time (Seconds)</th>\n",
       "      <th>Delay (ms)</th>\n",
       "      <th>5G Network Usage (Allocated Bandwidth)</th>\n",
       "    </tr>\n",
       "  </thead>\n",
       "  <tbody>\n",
       "    <tr>\n",
       "      <th>4</th>\n",
       "      <td>20</td>\n",
       "      <td>0.22</td>\n",
       "      <td>2.7</td>\n",
       "    </tr>\n",
       "    <tr>\n",
       "      <th>2</th>\n",
       "      <td>10</td>\n",
       "      <td>0.09</td>\n",
       "      <td>1.6</td>\n",
       "    </tr>\n",
       "    <tr>\n",
       "      <th>6</th>\n",
       "      <td>30</td>\n",
       "      <td>0.28</td>\n",
       "      <td>3.6</td>\n",
       "    </tr>\n",
       "    <tr>\n",
       "      <th>7</th>\n",
       "      <td>35</td>\n",
       "      <td>0.42</td>\n",
       "      <td>3.8</td>\n",
       "    </tr>\n",
       "    <tr>\n",
       "      <th>1</th>\n",
       "      <td>5</td>\n",
       "      <td>0.04</td>\n",
       "      <td>0.5</td>\n",
       "    </tr>\n",
       "  </tbody>\n",
       "</table>\n",
       "</div>"
      ],
      "text/plain": [
       "   Time (Seconds)  Delay (ms)  5G Network Usage (Allocated Bandwidth)\n",
       "4              20        0.22                                     2.7\n",
       "2              10        0.09                                     1.6\n",
       "6              30        0.28                                     3.6\n",
       "7              35        0.42                                     3.8\n",
       "1               5        0.04                                     0.5"
      ]
     },
     "execution_count": 881,
     "metadata": {},
     "output_type": "execute_result"
    }
   ],
   "source": [
    "num_vars = ['Time (Seconds)', 'Delay (ms)', '5G Network Usage (Allocated Bandwidth)']\n",
    "df_Newtrain = df_train[num_vars]\n",
    "df_Newtest = df_test[num_vars]\n",
    "df_Newtrain.head()"
   ]
  },
  {
   "cell_type": "code",
   "execution_count": 882,
   "id": "e02a78b5",
   "metadata": {},
   "outputs": [
    {
     "data": {
      "text/html": [
       "<div>\n",
       "<style scoped>\n",
       "    .dataframe tbody tr th:only-of-type {\n",
       "        vertical-align: middle;\n",
       "    }\n",
       "\n",
       "    .dataframe tbody tr th {\n",
       "        vertical-align: top;\n",
       "    }\n",
       "\n",
       "    .dataframe thead th {\n",
       "        text-align: right;\n",
       "    }\n",
       "</style>\n",
       "<table border=\"1\" class=\"dataframe\">\n",
       "  <thead>\n",
       "    <tr style=\"text-align: right;\">\n",
       "      <th></th>\n",
       "      <th>Time (Seconds)</th>\n",
       "      <th>Delay (ms)</th>\n",
       "      <th>5G Network Usage (Allocated Bandwidth)</th>\n",
       "    </tr>\n",
       "  </thead>\n",
       "  <tbody>\n",
       "    <tr>\n",
       "      <th>15</th>\n",
       "      <td>75</td>\n",
       "      <td>0.54</td>\n",
       "      <td>11.3</td>\n",
       "    </tr>\n",
       "    <tr>\n",
       "      <th>10</th>\n",
       "      <td>50</td>\n",
       "      <td>0.38</td>\n",
       "      <td>8.4</td>\n",
       "    </tr>\n",
       "    <tr>\n",
       "      <th>3</th>\n",
       "      <td>15</td>\n",
       "      <td>0.16</td>\n",
       "      <td>2.4</td>\n",
       "    </tr>\n",
       "    <tr>\n",
       "      <th>18</th>\n",
       "      <td>90</td>\n",
       "      <td>0.59</td>\n",
       "      <td>13.2</td>\n",
       "    </tr>\n",
       "    <tr>\n",
       "      <th>17</th>\n",
       "      <td>85</td>\n",
       "      <td>0.62</td>\n",
       "      <td>12.8</td>\n",
       "    </tr>\n",
       "  </tbody>\n",
       "</table>\n",
       "</div>"
      ],
      "text/plain": [
       "    Time (Seconds)  Delay (ms)  5G Network Usage (Allocated Bandwidth)\n",
       "15              75        0.54                                    11.3\n",
       "10              50        0.38                                     8.4\n",
       "3               15        0.16                                     2.4\n",
       "18              90        0.59                                    13.2\n",
       "17              85        0.62                                    12.8"
      ]
     },
     "execution_count": 882,
     "metadata": {},
     "output_type": "execute_result"
    }
   ],
   "source": [
    "df_Newtest.head()"
   ]
  },
  {
   "cell_type": "code",
   "execution_count": 883,
   "id": "36e27ae1",
   "metadata": {},
   "outputs": [
    {
     "data": {
      "text/plain": [
       "array([[1.],\n",
       "       [1.],\n",
       "       [1.],\n",
       "       [1.],\n",
       "       [1.],\n",
       "       [1.],\n",
       "       [1.]])"
      ]
     },
     "execution_count": 883,
     "metadata": {},
     "output_type": "execute_result"
    }
   ],
   "source": [
    "M_T = len(df_Newtrain)\n",
    "M_V = len(df_Newtest)\n",
    "K_Data_Center_P = np.ones((M_T,1))\n",
    "K_Data_Center_V = np.ones((M_V,1))\n",
    "K_Data_Center_V"
   ]
  },
  {
   "cell_type": "code",
   "execution_count": 884,
   "id": "fe1f5de5",
   "metadata": {},
   "outputs": [
    {
     "data": {
      "text/plain": [
       "array([[1.],\n",
       "       [1.],\n",
       "       [1.],\n",
       "       [1.],\n",
       "       [1.],\n",
       "       [1.],\n",
       "       [1.],\n",
       "       [1.],\n",
       "       [1.],\n",
       "       [1.],\n",
       "       [1.],\n",
       "       [1.],\n",
       "       [1.],\n",
       "       [1.]])"
      ]
     },
     "execution_count": 884,
     "metadata": {},
     "output_type": "execute_result"
    }
   ],
   "source": [
    "Mapping_Nodes_J = np.ones((M_T,1))\n",
    "Mapping_Nodes_J"
   ]
  },
  {
   "cell_type": "code",
   "execution_count": 885,
   "id": "22d3597a",
   "metadata": {},
   "outputs": [
    {
     "data": {
      "text/plain": [
       "array([ 20.,  10.,  30.,  35.,   5.,  65.,   0., 100.,  95.,  45.,  40.,\n",
       "        60.,  55.,  25.])"
      ]
     },
     "execution_count": 885,
     "metadata": {},
     "output_type": "execute_result"
    }
   ],
   "source": [
    "df_Newtrain.values[:, 0]"
   ]
  },
  {
   "cell_type": "code",
   "execution_count": 886,
   "id": "55e0090f",
   "metadata": {},
   "outputs": [
    {
     "data": {
      "text/plain": [
       "array([[1.00e+00, 2.00e+01, 2.20e-01, 2.70e+00, 4.40e+01],\n",
       "       [1.00e+00, 1.00e+01, 9.00e-02, 1.60e+00, 4.70e+01],\n",
       "       [1.00e+00, 3.00e+01, 2.80e-01, 3.60e+00, 0.00e+00],\n",
       "       [1.00e+00, 3.50e+01, 4.20e-01, 3.80e+00, 3.00e+00],\n",
       "       [1.00e+00, 5.00e+00, 4.00e-02, 5.00e-01, 3.00e+00],\n",
       "       [1.00e+00, 6.50e+01, 5.20e-01, 9.80e+00, 3.90e+01],\n",
       "       [1.00e+00, 0.00e+00, 0.00e+00, 2.50e-01, 9.00e+00],\n",
       "       [1.00e+00, 1.00e+02, 6.50e-01, 1.47e+01, 1.90e+01],\n",
       "       [1.00e+00, 9.50e+01, 6.20e-01, 1.36e+01, 2.10e+01],\n",
       "       [1.00e+00, 4.50e+01, 4.50e-01, 8.30e+00, 3.60e+01],\n",
       "       [1.00e+00, 4.00e+01, 4.10e-01, 6.10e+00, 2.30e+01],\n",
       "       [1.00e+00, 6.00e+01, 4.70e-01, 9.50e+00, 6.00e+00],\n",
       "       [1.00e+00, 5.50e+01, 5.10e-01, 9.10e+00, 2.40e+01],\n",
       "       [1.00e+00, 2.50e+01, 3.00e-01, 3.10e+00, 2.40e+01]])"
      ]
     },
     "execution_count": 886,
     "metadata": {},
     "output_type": "execute_result"
    }
   ],
   "source": [
    "Time_T = df_Newtrain.values[:, 0]\n",
    "Delay_T =  df_Newtrain.values[:, 1]\n",
    "Bandwidth_T =  df_Newtrain.values[:, 2]\n",
    "\n",
    "Time_T = Time_T.reshape(M_T,1)\n",
    "Delay_T = Delay_T.reshape(M_T,1)\n",
    "Bandwidth_T = Bandwidth_T.reshape(M_T,1)\n",
    "\n",
    "Power = 50\n",
    "Power_T = np.random.randint(low = 0, high = 50, size=(14,))\n",
    "Power_T_1 = Power_T.reshape(M_T,1)\n",
    "\n",
    "#Mapping_Nodes_J = np.hstack((K_Data_Center,Time_T,Delay_T,Bandwidth_T,Power_T_1 ))\n",
    "\n",
    "K_Data_Center_Predict = np.hstack((K_Data_Center_P,Time_T,Delay_T,Bandwidth_T,Power_T_1))\n",
    "K_Data_Center_Predict"
   ]
  },
  {
   "cell_type": "code",
   "execution_count": 887,
   "id": "34328002",
   "metadata": {},
   "outputs": [
    {
     "data": {
      "text/plain": [
       "array([[12],\n",
       "       [ 1],\n",
       "       [38],\n",
       "       [39],\n",
       "       [23],\n",
       "       [46],\n",
       "       [24]])"
      ]
     },
     "execution_count": 887,
     "metadata": {},
     "output_type": "execute_result"
    }
   ],
   "source": [
    "Power = 50\n",
    "Power_V = np.random.randint(low = 0, high = 50, size=(7,))\n",
    "Power_V_1 = Power_V.reshape(M_V,1)\n",
    "Power_V_1"
   ]
  },
  {
   "cell_type": "code",
   "execution_count": 888,
   "id": "ac8f361e",
   "metadata": {},
   "outputs": [
    {
     "data": {
      "text/plain": [
       "array([[ 1.  , 75.  ,  0.54, 11.3 , 17.  ],\n",
       "       [ 1.  , 50.  ,  0.38,  8.4 , 37.  ],\n",
       "       [ 1.  , 15.  ,  0.16,  2.4 , 25.  ],\n",
       "       [ 1.  , 90.  ,  0.59, 13.2 , 13.  ],\n",
       "       [ 1.  , 85.  ,  0.62, 12.8 ,  8.  ],\n",
       "       [ 1.  , 70.  ,  0.58, 10.4 ,  9.  ],\n",
       "       [ 1.  , 80.  ,  0.57, 12.5 , 20.  ]])"
      ]
     },
     "execution_count": 888,
     "metadata": {},
     "output_type": "execute_result"
    }
   ],
   "source": [
    "Time_V = df_Newtest.values[:, 0]\n",
    "Delay_V =  df_Newtest.values[:, 1]\n",
    "Bandwidth_V =  df_Newtest.values[:, 2]\n",
    "\n",
    "Time_V = Time_V.reshape(M_V,1)\n",
    "Delay_V = Delay_V.reshape(M_V,1)\n",
    "Bandwidth_V = Bandwidth_V.reshape(M_V,1)\n",
    "\n",
    "Power = 50\n",
    "Power_V = np.random.randint(low = 0, high = 50, size=(7,))\n",
    "Power_V_1 = Power_V.reshape(M_V,1)\n",
    "\n",
    "#Mapping_Nodes_J = np.hstack((K_Data_Center,Time_V,Delay_V,Bandwidth_V,Power_V_1 ))\n",
    "\n",
    "K_Data_Center_Actual = np.hstack((K_Data_Center_V,Time_V,Delay_V,Bandwidth_V,Power_V_1))\n",
    "K_Data_Center_Actual"
   ]
  },
  {
   "cell_type": "code",
   "execution_count": 889,
   "id": "86519c50",
   "metadata": {},
   "outputs": [
    {
     "data": {
      "text/plain": [
       "array([0.0202184 , 0.83261985, 0.77815675, 0.87001215, 0.97861834,\n",
       "       0.79915856, 0.46147936, 0.78052918, 0.11827443, 0.63992102,\n",
       "       0.14335329, 0.94466892, 0.52184832, 0.41466194])"
      ]
     },
     "execution_count": 889,
     "metadata": {},
     "output_type": "execute_result"
    }
   ],
   "source": [
    "b = np.random.random(size=(14,)) #exogenous load arrival rate\n",
    "b"
   ]
  },
  {
   "cell_type": "code",
   "execution_count": 890,
   "id": "4a466731",
   "metadata": {},
   "outputs": [],
   "source": [
    "def calculate_scalar(X, Y, theta): #Declaring values and computing the Scalar value J\n",
    "#loss is calculated by taking the mean of squared differences between actual(target) and predicted values.    \n",
    "    predictions = X.dot(theta)  #Dot product of array X and theta\n",
    "    errors = np.subtract(predictions,Y) #Matrix subtraction with predictions and Y\n",
    "    squaringErrors = np.square(errors) #Now errors contained in matrix. We square all values in matrix error.\n",
    "    J = 1/(2*M_T)*np.sum(squaringErrors) #Scalar equation using matrix squErrors\n",
    "    return J"
   ]
  },
  {
   "cell_type": "code",
   "execution_count": 891,
   "id": "feb553ab",
   "metadata": {},
   "outputs": [],
   "source": [
    "def gradient_descent(X, Y, theta, alpha, iterations):  #Function to calculate gradient descent for linear regression\n",
    "    \n",
    "    result = np.zeros(iterations)   #creating a row of an array with an undetermined amount of zeroes.\n",
    "    theta_interval = np.zeros([iterations, theta.size])  #creating an array for each interval to be plotted (X1, X2, X3) \n",
    "    \n",
    "    for i in range(iterations):    #For loop with iterations as an input.\n",
    "        predictions = X.dot(theta)   #Dot product of array X and theta resulting in scalar\n",
    "        errors = np.subtract(predictions,Y) #Matrix subtration between predictions and value Y\n",
    "        sum_delta = (alpha/M_T)*X.transpose().dot(errors); #learning rate over training examples * scalar of resulting dot product.  \n",
    "        theta = theta-sum_delta;   #Current theta minus scalar sum_delta for final value of theta                      \n",
    "        result[i] = calculate_scalar(X, Y, theta)\n",
    "        theta_interval[i] = theta #Needed to show the previous thetas used for the resulting scalar.\n",
    "\n",
    "    return theta, result, theta_interval"
   ]
  },
  {
   "cell_type": "code",
   "execution_count": 892,
   "id": "6ac6134a",
   "metadata": {},
   "outputs": [
    {
     "data": {
      "text/plain": [
       "array([[ 2.7 ],\n",
       "       [ 1.6 ],\n",
       "       [ 3.6 ],\n",
       "       [ 3.8 ],\n",
       "       [ 0.5 ],\n",
       "       [ 9.8 ],\n",
       "       [ 0.25],\n",
       "       [14.7 ],\n",
       "       [13.6 ],\n",
       "       [ 8.3 ],\n",
       "       [ 6.1 ],\n",
       "       [ 9.5 ],\n",
       "       [ 9.1 ],\n",
       "       [ 3.1 ]])"
      ]
     },
     "execution_count": 892,
     "metadata": {},
     "output_type": "execute_result"
    }
   ],
   "source": [
    "Bandwidth_T"
   ]
  },
  {
   "cell_type": "code",
   "execution_count": 893,
   "id": "5e153691",
   "metadata": {},
   "outputs": [
    {
     "data": {
      "text/plain": [
       "[array([46.7]),\n",
       " array([48.6]),\n",
       " array([3.6]),\n",
       " array([6.8]),\n",
       " array([3.5]),\n",
       " array([48.8]),\n",
       " array([9.25]),\n",
       " array([33.7]),\n",
       " array([34.6]),\n",
       " array([44.3]),\n",
       " array([29.1]),\n",
       " array([15.5]),\n",
       " array([33.1]),\n",
       " array([27.1])]"
      ]
     },
     "execution_count": 893,
     "metadata": {},
     "output_type": "execute_result"
    }
   ],
   "source": [
    "total_cost = []\n",
    "for i in range(14):\n",
    "        total_cost.append(Bandwidth_T[i] + Power_T[i])\n",
    "total_cost"
   ]
  },
  {
   "cell_type": "code",
   "execution_count": 894,
   "id": "43219387",
   "metadata": {},
   "outputs": [
    {
     "data": {
      "text/plain": [
       "array([0., 0., 0., 0., 0.])"
      ]
     },
     "execution_count": 894,
     "metadata": {},
     "output_type": "execute_result"
    }
   ],
   "source": [
    "theta_zero = np.zeros(5)\n",
    "theta_zero"
   ]
  },
  {
   "cell_type": "code",
   "execution_count": 895,
   "id": "4ce3a2db",
   "metadata": {},
   "outputs": [
    {
     "data": {
      "text/plain": [
       "array([[46.7 , 46.7 , 46.7 , 46.7 , 46.7 ],\n",
       "       [48.6 , 48.6 , 48.6 , 48.6 , 48.6 ],\n",
       "       [ 3.6 ,  3.6 ,  3.6 ,  3.6 ,  3.6 ],\n",
       "       [ 6.8 ,  6.8 ,  6.8 ,  6.8 ,  6.8 ],\n",
       "       [ 3.5 ,  3.5 ,  3.5 ,  3.5 ,  3.5 ],\n",
       "       [48.8 , 48.8 , 48.8 , 48.8 , 48.8 ],\n",
       "       [ 9.25,  9.25,  9.25,  9.25,  9.25],\n",
       "       [33.7 , 33.7 , 33.7 , 33.7 , 33.7 ],\n",
       "       [34.6 , 34.6 , 34.6 , 34.6 , 34.6 ],\n",
       "       [44.3 , 44.3 , 44.3 , 44.3 , 44.3 ],\n",
       "       [29.1 , 29.1 , 29.1 , 29.1 , 29.1 ],\n",
       "       [15.5 , 15.5 , 15.5 , 15.5 , 15.5 ],\n",
       "       [33.1 , 33.1 , 33.1 , 33.1 , 33.1 ],\n",
       "       [27.1 , 27.1 , 27.1 , 27.1 , 27.1 ]])"
      ]
     },
     "execution_count": 895,
     "metadata": {},
     "output_type": "execute_result"
    }
   ],
   "source": [
    "theta = theta_zero + total_cost\n",
    "theta"
   ]
  },
  {
   "cell_type": "code",
   "execution_count": 896,
   "id": "68ae30e8",
   "metadata": {},
   "outputs": [
    {
     "data": {
      "text/plain": [
       "array([[1.00e+00, 2.00e+01, 2.20e-01, 2.70e+00, 4.40e+01],\n",
       "       [1.00e+00, 1.00e+01, 9.00e-02, 1.60e+00, 4.70e+01],\n",
       "       [1.00e+00, 3.00e+01, 2.80e-01, 3.60e+00, 0.00e+00],\n",
       "       [1.00e+00, 3.50e+01, 4.20e-01, 3.80e+00, 3.00e+00],\n",
       "       [1.00e+00, 5.00e+00, 4.00e-02, 5.00e-01, 3.00e+00],\n",
       "       [1.00e+00, 6.50e+01, 5.20e-01, 9.80e+00, 3.90e+01],\n",
       "       [1.00e+00, 0.00e+00, 0.00e+00, 2.50e-01, 9.00e+00],\n",
       "       [1.00e+00, 1.00e+02, 6.50e-01, 1.47e+01, 1.90e+01],\n",
       "       [1.00e+00, 9.50e+01, 6.20e-01, 1.36e+01, 2.10e+01],\n",
       "       [1.00e+00, 4.50e+01, 4.50e-01, 8.30e+00, 3.60e+01],\n",
       "       [1.00e+00, 4.00e+01, 4.10e-01, 6.10e+00, 2.30e+01],\n",
       "       [1.00e+00, 6.00e+01, 4.70e-01, 9.50e+00, 6.00e+00],\n",
       "       [1.00e+00, 5.50e+01, 5.10e-01, 9.10e+00, 2.40e+01],\n",
       "       [1.00e+00, 2.50e+01, 3.00e-01, 3.10e+00, 2.40e+01]])"
      ]
     },
     "execution_count": 896,
     "metadata": {},
     "output_type": "execute_result"
    }
   ],
   "source": [
    "K_Data_Center_Predict"
   ]
  },
  {
   "cell_type": "code",
   "execution_count": 897,
   "id": "8365b0e3",
   "metadata": {},
   "outputs": [
    {
     "name": "stdout",
     "output_type": "stream",
     "text": [
      "[0.50703907 0.50703907 0.50703907 0.50703907 0.50703907 0.50703907\n",
      " 0.50703907 0.50703907 0.50703907 0.50703907 0.50703907 0.50703907\n",
      " 0.50703907 0.50703907]\n",
      "1.678265347272988e-10\n"
     ]
    }
   ],
   "source": [
    "#Using CVX in Python\n",
    "node_direction = [1,-1]\n",
    "A = random.choice(node_direction) #Connection entering or leaving node\n",
    "b = np.random.random(size=(14,)) #exogenous load arrival rates\n",
    "\n",
    "Y = np.random.random(size=(14,)) #Making load rate equal to schedule rate\n",
    "\n",
    "# Construct the problem.\n",
    "x = cp.Variable(M_T)\n",
    "#objective = cp.Minimize(cp.sum(calculate_scalar(K_Data_Center_Predict, Mapping_Nodes_J, theta)))\n",
    "objective = cp.Minimize(cp.sum(calculate_scalar(K_Data_Center_Predict, Y, theta_zero)))\n",
    "#constraints = [0 <= x, x <= 1]\n",
    "constraints = [cp.sum(A*x - b) <= 0]\n",
    "prob = cp.Problem(objective, constraints)\n",
    "\n",
    "# The optimal objective value is returned by `prob.solve()`.\n",
    "result = prob.solve()\n",
    "# The optimal value for x is stored in `x.value`.\n",
    "print(x.value)\n",
    "# The optimal Lagrange multiplier for a constraint is stored in\n",
    "# `constraint.dual_value`.\n",
    "print(constraints[0].dual_value)"
   ]
  },
  {
   "cell_type": "code",
   "execution_count": 898,
   "id": "8d4f87eb",
   "metadata": {},
   "outputs": [
    {
     "name": "stdout",
     "output_type": "stream",
     "text": [
      "Scalar values is  0.1161480499629612\n"
     ]
    }
   ],
   "source": [
    "#Making a theta array with initializations of O and setting validation parameters.\n",
    "iterations = 500; #In this case time slots\n",
    "alpha = 0.01;\n",
    "loss = calculate_scalar(K_Data_Center_Predict, Y, theta_zero)\n",
    "print('Scalar values is ', loss) #Print the scalar value for Gradient Descent"
   ]
  },
  {
   "cell_type": "code",
   "execution_count": 899,
   "id": "bc9ec090",
   "metadata": {},
   "outputs": [
    {
     "name": "stdout",
     "output_type": "stream",
     "text": [
      "Final value of theta = [nan nan nan nan nan]\n",
      "Y =  [6.33977056e+001 5.48758017e+004 4.75645525e+007 4.12276348e+010\n",
      " 3.57349715e+013 3.09740831e+016 2.68474769e+019 2.32706491e+022\n",
      " 2.01703538e+025 1.74831038e+028 1.51538699e+031 1.31349545e+034\n",
      " 1.13850146e+037 9.86821519e+039 8.55349548e+042 7.41393287e+045\n",
      " 6.42619158e+048 5.57004479e+051 4.82796048e+054 4.18474237e+057\n",
      " 3.62721873e+060 3.14397268e+063 2.72510840e+066 2.36204845e+069\n",
      " 2.04735815e+072 1.77459331e+075 1.53816831e+078 1.33324167e+081\n",
      " 1.15561693e+084 1.00165674e+087 8.68208305e+089 7.52538901e+092\n",
      " 6.52279867e+095 5.65378114e+098 4.90054083e+101 4.24765300e+104\n",
      " 3.68174792e+107 3.19123708e+110 2.76607587e+113 2.39755792e+116\n",
      " 2.07813677e+119 1.80127137e+122 1.56129211e+125 1.35328474e+128\n",
      " 1.17298971e+131 1.01671498e+134 8.81260371e+136 7.63852070e+139\n",
      " 6.62085808e+142 5.73877632e+145 4.97421230e+148 4.31150939e+151\n",
      " 3.73709687e+154 3.23921201e+157 2.80765921e+160 2.43360121e+163\n",
      " 2.10937809e+166 1.82835048e+169 1.58476353e+172 1.37362912e+175\n",
      " 1.19062366e+178 1.03199959e+181 8.94508653e+183 7.75335314e+186\n",
      " 6.72039166e+189 5.82504927e+192 5.04899130e+195 4.37632575e+198\n",
      " 3.79327790e+201 3.28790817e+204 2.84986770e+207 2.47018635e+210\n",
      " 2.14108908e+213 1.85583669e+216 1.60858782e+219 1.39427935e+222\n",
      " 1.20852270e+225 1.04751399e+228 9.07956101e+230 7.86991189e+233\n",
      " 6.82142156e+236 5.91261919e+239 5.12489447e+242 4.44211652e+245\n",
      " 3.85030351e+248 3.33733639e+251 2.89271071e+254 2.50732149e+257\n",
      " 2.17327679e+260 1.88373610e+263 1.63277025e+266 1.41524001e+269\n",
      " 1.22669083e+272 1.06326162e+275 9.21605709e+277 7.98822291e+280\n",
      " 6.92397027e+283 6.00150557e+286 5.20193873e+289 4.50889635e+292\n",
      " 3.90818641e+295 3.38750769e+298 2.93619780e+301 2.54501489e+304\n",
      "             inf             inf             inf             inf\n",
      "             inf             inf             inf             inf\n",
      "             inf             inf             inf             inf\n",
      "             inf             inf             inf             inf\n",
      "             inf             inf             inf             inf\n",
      "             inf             inf             inf             inf\n",
      "             inf             inf             inf             inf\n",
      "             inf             inf             inf             inf\n",
      "             inf             inf             inf             inf\n",
      "             inf             inf             inf             inf\n",
      "             inf             inf             inf             inf\n",
      "             inf             inf             inf             inf\n",
      "             inf             inf             inf             inf\n",
      "             inf             inf             inf             inf\n",
      "             inf             inf             inf             inf\n",
      "             inf             inf             inf             inf\n",
      "             inf             inf             inf             inf\n",
      "             inf             inf             inf             inf\n",
      "             inf             inf             inf             inf\n",
      "             inf             inf             inf             inf\n",
      "             inf             inf             inf             inf\n",
      "             inf             inf             inf             inf\n",
      "             inf             inf             inf             inf\n",
      "             inf             inf             inf             inf\n",
      "             inf             inf             inf             inf\n",
      "             inf             inf             inf             inf\n",
      "             inf             nan             nan             nan\n",
      "             nan             nan             nan             nan\n",
      "             nan             nan             nan             nan\n",
      "             nan             nan             nan             nan\n",
      "             nan             nan             nan             nan\n",
      "             nan             nan             nan             nan\n",
      "             nan             nan             nan             nan\n",
      "             nan             nan             nan             nan\n",
      "             nan             nan             nan             nan\n",
      "             nan             nan             nan             nan\n",
      "             nan             nan             nan             nan\n",
      "             nan             nan             nan             nan\n",
      "             nan             nan             nan             nan\n",
      "             nan             nan             nan             nan\n",
      "             nan             nan             nan             nan\n",
      "             nan             nan             nan             nan\n",
      "             nan             nan             nan             nan\n",
      "             nan             nan             nan             nan\n",
      "             nan             nan             nan             nan\n",
      "             nan             nan             nan             nan\n",
      "             nan             nan             nan             nan\n",
      "             nan             nan             nan             nan\n",
      "             nan             nan             nan             nan\n",
      "             nan             nan             nan             nan\n",
      "             nan             nan             nan             nan\n",
      "             nan             nan             nan             nan\n",
      "             nan             nan             nan             nan\n",
      "             nan             nan             nan             nan\n",
      "             nan             nan             nan             nan\n",
      "             nan             nan             nan             nan\n",
      "             nan             nan             nan             nan\n",
      "             nan             nan             nan             nan\n",
      "             nan             nan             nan             nan\n",
      "             nan             nan             nan             nan\n",
      "             nan             nan             nan             nan\n",
      "             nan             nan             nan             nan\n",
      "             nan             nan             nan             nan\n",
      "             nan             nan             nan             nan\n",
      "             nan             nan             nan             nan\n",
      "             nan             nan             nan             nan\n",
      "             nan             nan             nan             nan\n",
      "             nan             nan             nan             nan\n",
      "             nan             nan             nan             nan\n",
      "             nan             nan             nan             nan\n",
      "             nan             nan             nan             nan\n",
      "             nan             nan             nan             nan\n",
      "             nan             nan             nan             nan\n",
      "             nan             nan             nan             nan\n",
      "             nan             nan             nan             nan\n",
      "             nan             nan             nan             nan\n",
      "             nan             nan             nan             nan\n",
      "             nan             nan             nan             nan\n",
      "             nan             nan             nan             nan\n",
      "             nan             nan             nan             nan\n",
      "             nan             nan             nan             nan\n",
      "             nan             nan             nan             nan\n",
      "             nan             nan             nan             nan\n",
      "             nan             nan             nan             nan\n",
      "             nan             nan             nan             nan\n",
      "             nan             nan             nan             nan\n",
      "             nan             nan             nan             nan\n",
      "             nan             nan             nan             nan\n",
      "             nan             nan             nan             nan\n",
      "             nan             nan             nan             nan\n",
      "             nan             nan             nan             nan\n",
      "             nan             nan             nan             nan\n",
      "             nan             nan             nan             nan\n",
      "             nan             nan             nan             nan\n",
      "             nan             nan             nan             nan\n",
      "             nan             nan             nan             nan\n",
      "             nan             nan             nan             nan\n",
      "             nan             nan             nan             nan\n",
      "             nan             nan             nan             nan]\n"
     ]
    },
    {
     "name": "stderr",
     "output_type": "stream",
     "text": [
      "C:\\Users\\micha\\anaconda3\\lib\\site-packages\\numpy\\core\\fromnumeric.py:87: RuntimeWarning: overflow encountered in reduce\n",
      "  return ufunc.reduce(obj, axis, dtype, out, **passkwargs)\n",
      "<ipython-input-890-1df2a476ff15>:5: RuntimeWarning: overflow encountered in square\n",
      "  squaringErrors = np.square(errors) #Now errors contained in matrix. We square all values in matrix error.\n"
     ]
    }
   ],
   "source": [
    "#Calculating gradient descent with theta and scalar J for validation set\n",
    "theta, loss, theta_interval = gradient_descent(K_Data_Center_Predict, Y, theta_zero, alpha, iterations)\n",
    "print('Final value of theta =', theta)\n",
    "print('Y = ', loss)"
   ]
  },
  {
   "cell_type": "code",
   "execution_count": 900,
   "id": "2dbbca57",
   "metadata": {},
   "outputs": [
    {
     "data": {
      "image/png": "[encoded data removed]",
      "text/plain": [
       "<Figure size 720x432 with 1 Axes>"
      ]
     },
     "metadata": {
      "needs_background": "light"
     },
     "output_type": "display_data"
    }
   ],
   "source": [
    "#Plotting the Scalar J vs. Number of Iterations for all X values combined\n",
    "plt.plot(range(1, iterations + 1), loss, color = 'Blue', label = 'MOSP' )\n",
    "plt.rcParams[\"figure.figsize\"] = (10,6)\n",
    "plt.grid()\n",
    "plt.xlabel('Time')\n",
    "plt.ylabel('Value of Loss at different time slots')\n",
    "plt.title('Convergence for Gradient Descent for Network Congestion Optimization')\n",
    "plt.legend()\n",
    "plt.show()"
   ]
  }
 ],
 "metadata": {
  "kernelspec": {
   "display_name": "Python 3",
   "language": "python",
   "name": "python3"
  },
  "language_info": {
   "codemirror_mode": {
    "name": "ipython",
    "version": 3
   },
   "file_extension": ".py",
   "mimetype": "text/x-python",
   "name": "python",
   "nbconvert_exporter": "python",
   "pygments_lexer": "ipython3",
   "version": "3.8.8"
  }
 },
 "nbformat": 4,
 "nbformat_minor": 5
}
